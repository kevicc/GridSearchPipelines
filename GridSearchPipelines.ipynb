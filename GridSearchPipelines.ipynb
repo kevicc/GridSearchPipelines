{
 "cells": [
  {
   "cell_type": "code",
   "execution_count": 2,
   "metadata": {
    "colab": {
     "base_uri": "https://localhost:8080/"
    },
    "id": "umegZ19SRPpZ",
    "outputId": "74b3e914-d9a3-418c-9273-8b3567db3724"
   },
   "outputs": [
    {
     "name": "stdout",
     "output_type": "stream",
     "text": [
      "scikit-learn: 0.22.2.post1\n",
      "pandas: 1.1.5\n",
      "numpy: 1.18.5\n"
     ]
    }
   ],
   "source": [
    "import pandas as pd\n",
    "import numpy as np\n",
    "import sklearn\n",
    "\n",
    "print('scikit-learn: {}'.format(sklearn.__version__))\n",
    "print('pandas: {}'.format(pd.__version__))\n",
    "print('numpy: {}'.format(np.__version__))\n",
    "\n",
    "from IPython.core.interactiveshell import InteractiveShell\n",
    "InteractiveShell.ast_node_interactivity = \"all\""
   ]
  },
  {
   "cell_type": "code",
   "execution_count": 4,
   "metadata": {
    "id": "90Pka9xCRPpZ"
   },
   "outputs": [],
   "source": [
    "from sklearn.preprocessing import FunctionTransformer, PowerTransformer, StandardScaler\n",
    "from sklearn.feature_selection import VarianceThreshold\n",
    "from sklearn.model_selection import train_test_split\n",
    "\n",
    "import matplotlib.pyplot as plt\n",
    "from matplotlib.pyplot import figure\n",
    "import seaborn as sns"
   ]
  },
  {
   "cell_type": "code",
   "execution_count": 6,
   "metadata": {
    "colab": {
     "base_uri": "https://localhost:8080/",
     "height": 70,
     "resources": {
      "http://localhost:8080/nbextensions/google.colab/files.js": {
       "data": "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",
       "headers": [
        [
         "content-type",
         "application/javascript"
        ]
       ],
       "ok": true,
       "status": 200,
       "status_text": ""
      }
     }
    },
    "id": "S6dgbkw4VeRf",
    "outputId": "55a077d4-1dc9-467f-eb1d-870200cab599"
   },
   "outputs": [
    {
     "data": {
      "text/html": [
       "\n",
       "     <input type=\"file\" id=\"files-7e7bdc4b-62f4-4153-8a5c-d928853fd266\" name=\"files[]\" multiple disabled\n",
       "        style=\"border:none\" />\n",
       "     <output id=\"result-7e7bdc4b-62f4-4153-8a5c-d928853fd266\">\n",
       "      Upload widget is only available when the cell has been executed in the\n",
       "      current browser session. Please rerun this cell to enable.\n",
       "      </output>\n",
       "      <script src=\"/nbextensions/google.colab/files.js\"></script> "
      ],
      "text/plain": [
       "<IPython.core.display.HTML object>"
      ]
     },
     "metadata": {
      "tags": []
     },
     "output_type": "display_data"
    },
    {
     "name": "stdout",
     "output_type": "stream",
     "text": [
      "Saving OJ.csv to OJ.csv\n"
     ]
    }
   ],
   "source": [
    "from google.colab import files\n",
    "uploaded = files.upload()"
   ]
  },
  {
   "cell_type": "code",
   "execution_count": 7,
   "metadata": {
    "id": "rpdEzIEeRPpZ"
   },
   "outputs": [],
   "source": [
    "# Read in the data\n",
    "\n",
    "df = pd.read_csv(\"OJ.csv\") "
   ]
  },
  {
   "cell_type": "markdown",
   "metadata": {
    "id": "ruYgG794qxCl"
   },
   "source": [
    "## Preprocess"
   ]
  },
  {
   "cell_type": "code",
   "execution_count": 8,
   "metadata": {
    "colab": {
     "base_uri": "https://localhost:8080/",
     "height": 540
    },
    "id": "q5dQDfGGWRlO",
    "outputId": "c4199145-fa42-4ee0-fa72-5051673ce0ea"
   },
   "outputs": [
    {
     "name": "stdout",
     "output_type": "stream",
     "text": [
      "Shape of dataset: (1070, 10) \n",
      "\n",
      "Number of stores: 5\n",
      "Store IDs: [1 7 2 3 4] \n",
      "\n",
      "Purchase brands (target): ['CH' 'MM'] \n",
      "\n"
     ]
    },
    {
     "data": {
      "text/html": [
       "<div>\n",
       "<style scoped>\n",
       "    .dataframe tbody tr th:only-of-type {\n",
       "        vertical-align: middle;\n",
       "    }\n",
       "\n",
       "    .dataframe tbody tr th {\n",
       "        vertical-align: top;\n",
       "    }\n",
       "\n",
       "    .dataframe thead th {\n",
       "        text-align: right;\n",
       "    }\n",
       "</style>\n",
       "<table border=\"1\" class=\"dataframe\">\n",
       "  <thead>\n",
       "    <tr style=\"text-align: right;\">\n",
       "      <th></th>\n",
       "      <th>WeekofPurchase</th>\n",
       "      <th>StoreID</th>\n",
       "      <th>PriceCH</th>\n",
       "      <th>PriceMM</th>\n",
       "      <th>DiscCH</th>\n",
       "      <th>DiscMM</th>\n",
       "      <th>SpecialCH</th>\n",
       "      <th>SpecialMM</th>\n",
       "      <th>LoyalCH</th>\n",
       "      <th>Purchase</th>\n",
       "    </tr>\n",
       "  </thead>\n",
       "  <tbody>\n",
       "    <tr>\n",
       "      <th>0</th>\n",
       "      <td>237</td>\n",
       "      <td>1</td>\n",
       "      <td>1.75</td>\n",
       "      <td>1.99</td>\n",
       "      <td>0.00</td>\n",
       "      <td>0.0</td>\n",
       "      <td>0</td>\n",
       "      <td>0</td>\n",
       "      <td>0.50</td>\n",
       "      <td>CH</td>\n",
       "    </tr>\n",
       "    <tr>\n",
       "      <th>1</th>\n",
       "      <td>239</td>\n",
       "      <td>1</td>\n",
       "      <td>1.75</td>\n",
       "      <td>1.99</td>\n",
       "      <td>0.00</td>\n",
       "      <td>0.3</td>\n",
       "      <td>0</td>\n",
       "      <td>1</td>\n",
       "      <td>0.60</td>\n",
       "      <td>CH</td>\n",
       "    </tr>\n",
       "    <tr>\n",
       "      <th>2</th>\n",
       "      <td>245</td>\n",
       "      <td>1</td>\n",
       "      <td>1.86</td>\n",
       "      <td>2.09</td>\n",
       "      <td>0.17</td>\n",
       "      <td>0.0</td>\n",
       "      <td>0</td>\n",
       "      <td>0</td>\n",
       "      <td>0.68</td>\n",
       "      <td>CH</td>\n",
       "    </tr>\n",
       "  </tbody>\n",
       "</table>\n",
       "</div>"
      ],
      "text/plain": [
       "   WeekofPurchase  StoreID  PriceCH  ...  SpecialMM  LoyalCH  Purchase\n",
       "0             237        1     1.75  ...          0     0.50        CH\n",
       "1             239        1     1.75  ...          1     0.60        CH\n",
       "2             245        1     1.86  ...          0     0.68        CH\n",
       "\n",
       "[3 rows x 10 columns]"
      ]
     },
     "execution_count": 8,
     "metadata": {
      "tags": []
     },
     "output_type": "execute_result"
    },
    {
     "name": "stdout",
     "output_type": "stream",
     "text": [
      "\n",
      "\n"
     ]
    },
    {
     "data": {
      "text/html": [
       "<div>\n",
       "<style scoped>\n",
       "    .dataframe tbody tr th:only-of-type {\n",
       "        vertical-align: middle;\n",
       "    }\n",
       "\n",
       "    .dataframe tbody tr th {\n",
       "        vertical-align: top;\n",
       "    }\n",
       "\n",
       "    .dataframe thead th {\n",
       "        text-align: right;\n",
       "    }\n",
       "</style>\n",
       "<table border=\"1\" class=\"dataframe\">\n",
       "  <thead>\n",
       "    <tr style=\"text-align: right;\">\n",
       "      <th></th>\n",
       "      <th>WeekofPurchase</th>\n",
       "      <th>StoreID</th>\n",
       "      <th>PriceCH</th>\n",
       "      <th>PriceMM</th>\n",
       "      <th>DiscCH</th>\n",
       "      <th>DiscMM</th>\n",
       "      <th>SpecialCH</th>\n",
       "      <th>SpecialMM</th>\n",
       "      <th>LoyalCH</th>\n",
       "    </tr>\n",
       "  </thead>\n",
       "  <tbody>\n",
       "    <tr>\n",
       "      <th>count</th>\n",
       "      <td>1070.000000</td>\n",
       "      <td>1070.000000</td>\n",
       "      <td>1070.000000</td>\n",
       "      <td>1070.000000</td>\n",
       "      <td>1070.000000</td>\n",
       "      <td>1070.000000</td>\n",
       "      <td>1070.000000</td>\n",
       "      <td>1070.000000</td>\n",
       "      <td>1070.000000</td>\n",
       "    </tr>\n",
       "    <tr>\n",
       "      <th>mean</th>\n",
       "      <td>254.381308</td>\n",
       "      <td>3.959813</td>\n",
       "      <td>1.867421</td>\n",
       "      <td>2.085411</td>\n",
       "      <td>0.051860</td>\n",
       "      <td>0.123364</td>\n",
       "      <td>0.147664</td>\n",
       "      <td>0.161682</td>\n",
       "      <td>0.565782</td>\n",
       "    </tr>\n",
       "    <tr>\n",
       "      <th>std</th>\n",
       "      <td>15.558286</td>\n",
       "      <td>2.308984</td>\n",
       "      <td>0.101970</td>\n",
       "      <td>0.134386</td>\n",
       "      <td>0.117474</td>\n",
       "      <td>0.213834</td>\n",
       "      <td>0.354932</td>\n",
       "      <td>0.368331</td>\n",
       "      <td>0.307843</td>\n",
       "    </tr>\n",
       "    <tr>\n",
       "      <th>min</th>\n",
       "      <td>227.000000</td>\n",
       "      <td>1.000000</td>\n",
       "      <td>1.690000</td>\n",
       "      <td>1.690000</td>\n",
       "      <td>0.000000</td>\n",
       "      <td>0.000000</td>\n",
       "      <td>0.000000</td>\n",
       "      <td>0.000000</td>\n",
       "      <td>0.000011</td>\n",
       "    </tr>\n",
       "    <tr>\n",
       "      <th>25%</th>\n",
       "      <td>240.000000</td>\n",
       "      <td>2.000000</td>\n",
       "      <td>1.790000</td>\n",
       "      <td>1.990000</td>\n",
       "      <td>0.000000</td>\n",
       "      <td>0.000000</td>\n",
       "      <td>0.000000</td>\n",
       "      <td>0.000000</td>\n",
       "      <td>0.325257</td>\n",
       "    </tr>\n",
       "    <tr>\n",
       "      <th>50%</th>\n",
       "      <td>257.000000</td>\n",
       "      <td>3.000000</td>\n",
       "      <td>1.860000</td>\n",
       "      <td>2.090000</td>\n",
       "      <td>0.000000</td>\n",
       "      <td>0.000000</td>\n",
       "      <td>0.000000</td>\n",
       "      <td>0.000000</td>\n",
       "      <td>0.600000</td>\n",
       "    </tr>\n",
       "    <tr>\n",
       "      <th>75%</th>\n",
       "      <td>268.000000</td>\n",
       "      <td>7.000000</td>\n",
       "      <td>1.990000</td>\n",
       "      <td>2.180000</td>\n",
       "      <td>0.000000</td>\n",
       "      <td>0.230000</td>\n",
       "      <td>0.000000</td>\n",
       "      <td>0.000000</td>\n",
       "      <td>0.850873</td>\n",
       "    </tr>\n",
       "    <tr>\n",
       "      <th>max</th>\n",
       "      <td>278.000000</td>\n",
       "      <td>7.000000</td>\n",
       "      <td>2.090000</td>\n",
       "      <td>2.290000</td>\n",
       "      <td>0.500000</td>\n",
       "      <td>0.800000</td>\n",
       "      <td>1.000000</td>\n",
       "      <td>1.000000</td>\n",
       "      <td>0.999947</td>\n",
       "    </tr>\n",
       "  </tbody>\n",
       "</table>\n",
       "</div>"
      ],
      "text/plain": [
       "       WeekofPurchase      StoreID  ...    SpecialMM      LoyalCH\n",
       "count     1070.000000  1070.000000  ...  1070.000000  1070.000000\n",
       "mean       254.381308     3.959813  ...     0.161682     0.565782\n",
       "std         15.558286     2.308984  ...     0.368331     0.307843\n",
       "min        227.000000     1.000000  ...     0.000000     0.000011\n",
       "25%        240.000000     2.000000  ...     0.000000     0.325257\n",
       "50%        257.000000     3.000000  ...     0.000000     0.600000\n",
       "75%        268.000000     7.000000  ...     0.000000     0.850873\n",
       "max        278.000000     7.000000  ...     1.000000     0.999947\n",
       "\n",
       "[8 rows x 9 columns]"
      ]
     },
     "execution_count": 8,
     "metadata": {
      "tags": []
     },
     "output_type": "execute_result"
    }
   ],
   "source": [
    "# About the data\n",
    "\n",
    "print('Shape of dataset:', df.shape, '\\n')\n",
    "print('Number of stores:', df['StoreID'].nunique())\n",
    "print('Store IDs:', df['StoreID'].unique(),'\\n')\n",
    "print('Purchase brands (target):', df['Purchase'].unique(),'\\n')\n",
    "df.head(3)\n",
    "print('\\n')\n",
    "df.describe()"
   ]
  },
  {
   "cell_type": "code",
   "execution_count": 10,
   "metadata": {
    "colab": {
     "base_uri": "https://localhost:8080/",
     "height": 1000
    },
    "id": "msq4gy5AO7_a",
    "outputId": "785fb5c9-8e7e-4533-af27-77383b525c49"
   },
   "outputs": [
    {
     "data": {
      "text/plain": [
       "Text(0.5, 1.0, 'WeekofPurchase Distribution')"
      ]
     },
     "execution_count": 10,
     "metadata": {
      "tags": []
     },
     "output_type": "execute_result"
    },
    {
     "data": {
      "image/png": "[encoded data removed]",
      "text/plain": [
       "<Figure size 576x180 with 1 Axes>"
      ]
     },
     "metadata": {
      "needs_background": "light",
      "tags": []
     },
     "output_type": "display_data"
    },
    {
     "data": {
      "text/plain": [
       "Text(0.5, 1.0, 'StoreID Distribution')"
      ]
     },
     "execution_count": 10,
     "metadata": {
      "tags": []
     },
     "output_type": "execute_result"
    },
    {
     "data": {
      "image/png": "[encoded data removed]",
      "text/plain": [
       "<Figure size 576x180 with 1 Axes>"
      ]
     },
     "metadata": {
      "needs_background": "light",
      "tags": []
     },
     "output_type": "display_data"
    },
    {
     "data": {
      "text/plain": [
       "Text(0.5, 1.0, 'PriceCH Distribution')"
      ]
     },
     "execution_count": 10,
     "metadata": {
      "tags": []
     },
     "output_type": "execute_result"
    },
    {
     "data": {
      "image/png": "[encoded data removed]",
      "text/plain": [
       "<Figure size 576x180 with 1 Axes>"
      ]
     },
     "metadata": {
      "needs_background": "light",
      "tags": []
     },
     "output_type": "display_data"
    },
    {
     "data": {
      "text/plain": [
       "Text(0.5, 1.0, 'PriceMM Distribution')"
      ]
     },
     "execution_count": 10,
     "metadata": {
      "tags": []
     },
     "output_type": "execute_result"
    },
    {
     "data": {
      "image/png": "[encoded data removed]",
      "text/plain": [
       "<Figure size 576x180 with 1 Axes>"
      ]
     },
     "metadata": {
      "needs_background": "light",
      "tags": []
     },
     "output_type": "display_data"
    },
    {
     "data": {
      "text/plain": [
       "Text(0.5, 1.0, 'DiscCH Distribution')"
      ]
     },
     "execution_count": 10,
     "metadata": {
      "tags": []
     },
     "output_type": "execute_result"
    },
    {
     "data": {
      "image/png": "[encoded data removed]",
      "text/plain": [
       "<Figure size 576x180 with 1 Axes>"
      ]
     },
     "metadata": {
      "needs_background": "light",
      "tags": []
     },
     "output_type": "display_data"
    },
    {
     "data": {
      "text/plain": [
       "Text(0.5, 1.0, 'DiscMM Distribution')"
      ]
     },
     "execution_count": 10,
     "metadata": {
      "tags": []
     },
     "output_type": "execute_result"
    },
    {
     "data": {
      "image/png": "[encoded data removed]",
      "text/plain": [
       "<Figure size 576x180 with 1 Axes>"
      ]
     },
     "metadata": {
      "needs_background": "light",
      "tags": []
     },
     "output_type": "display_data"
    },
    {
     "data": {
      "text/plain": [
       "Text(0.5, 1.0, 'SpecialCH Distribution')"
      ]
     },
     "execution_count": 10,
     "metadata": {
      "tags": []
     },
     "output_type": "execute_result"
    },
    {
     "data": {
      "image/png": "[encoded data removed]",
      "text/plain": [
       "<Figure size 576x180 with 1 Axes>"
      ]
     },
     "metadata": {
      "needs_background": "light",
      "tags": []
     },
     "output_type": "display_data"
    },
    {
     "data": {
      "text/plain": [
       "Text(0.5, 1.0, 'SpecialMM Distribution')"
      ]
     },
     "execution_count": 10,
     "metadata": {
      "tags": []
     },
     "output_type": "execute_result"
    },
    {
     "data": {
      "image/png": "[encoded data removed]",
      "text/plain": [
       "<Figure size 576x180 with 1 Axes>"
      ]
     },
     "metadata": {
      "needs_background": "light",
      "tags": []
     },
     "output_type": "display_data"
    },
    {
     "data": {
      "text/plain": [
       "Text(0.5, 1.0, 'LoyalCH Distribution')"
      ]
     },
     "execution_count": 10,
     "metadata": {
      "tags": []
     },
     "output_type": "execute_result"
    },
    {
     "data": {
      "image/png": "[encoded data removed]",
      "text/plain": [
       "<Figure size 576x180 with 1 Axes>"
      ]
     },
     "metadata": {
      "needs_background": "light",
      "tags": []
     },
     "output_type": "display_data"
    },
    {
     "data": {
      "text/plain": [
       "Text(0.5, 1.0, 'Purchase Distribution')"
      ]
     },
     "execution_count": 10,
     "metadata": {
      "tags": []
     },
     "output_type": "execute_result"
    },
    {
     "data": {
      "image/png": "[encoded data removed]",
      "text/plain": [
       "<Figure size 576x180 with 1 Axes>"
      ]
     },
     "metadata": {
      "needs_background": "light",
      "tags": []
     },
     "output_type": "display_data"
    }
   ],
   "source": [
    "# Look at the distribution\n",
    "\n",
    "num_bins = 25\n",
    "\n",
    "for col in df.columns:\n",
    "  fig, ax = plt.subplots()\n",
    "  fig.set_size_inches(8, 2.5)\n",
    "  n, bins, patches = ax.hist(df[col], num_bins)\n",
    "  ax.set_title((col + ' Distribution'))\n",
    "  plt.show()"
   ]
  },
  {
   "cell_type": "code",
   "execution_count": 11,
   "metadata": {
    "colab": {
     "base_uri": "https://localhost:8080/",
     "height": 133
    },
    "id": "6wdb4HvKjt3Y",
    "outputId": "3a3a9cdd-82a7-4fa2-b593-2d5f17088dae"
   },
   "outputs": [
    {
     "data": {
      "text/html": [
       "<div>\n",
       "<style scoped>\n",
       "    .dataframe tbody tr th:only-of-type {\n",
       "        vertical-align: middle;\n",
       "    }\n",
       "\n",
       "    .dataframe tbody tr th {\n",
       "        vertical-align: top;\n",
       "    }\n",
       "\n",
       "    .dataframe thead th {\n",
       "        text-align: right;\n",
       "    }\n",
       "</style>\n",
       "<table border=\"1\" class=\"dataframe\">\n",
       "  <thead>\n",
       "    <tr style=\"text-align: right;\">\n",
       "      <th></th>\n",
       "      <th>WeekofPurchase</th>\n",
       "      <th>StoreID</th>\n",
       "      <th>PriceCH</th>\n",
       "      <th>PriceMM</th>\n",
       "      <th>DiscCH</th>\n",
       "      <th>DiscMM</th>\n",
       "      <th>SpecialCH</th>\n",
       "      <th>SpecialMM</th>\n",
       "      <th>LoyalCH</th>\n",
       "      <th>Purchase</th>\n",
       "      <th>Store_1</th>\n",
       "      <th>Store_2</th>\n",
       "      <th>Store_3</th>\n",
       "      <th>Store_4</th>\n",
       "      <th>Store_7</th>\n",
       "    </tr>\n",
       "  </thead>\n",
       "  <tbody>\n",
       "    <tr>\n",
       "      <th>0</th>\n",
       "      <td>237</td>\n",
       "      <td>1</td>\n",
       "      <td>1.75</td>\n",
       "      <td>1.99</td>\n",
       "      <td>0.00</td>\n",
       "      <td>0.0</td>\n",
       "      <td>0</td>\n",
       "      <td>0</td>\n",
       "      <td>0.50</td>\n",
       "      <td>CH</td>\n",
       "      <td>1</td>\n",
       "      <td>0</td>\n",
       "      <td>0</td>\n",
       "      <td>0</td>\n",
       "      <td>0</td>\n",
       "    </tr>\n",
       "    <tr>\n",
       "      <th>1</th>\n",
       "      <td>239</td>\n",
       "      <td>1</td>\n",
       "      <td>1.75</td>\n",
       "      <td>1.99</td>\n",
       "      <td>0.00</td>\n",
       "      <td>0.3</td>\n",
       "      <td>0</td>\n",
       "      <td>1</td>\n",
       "      <td>0.60</td>\n",
       "      <td>CH</td>\n",
       "      <td>1</td>\n",
       "      <td>0</td>\n",
       "      <td>0</td>\n",
       "      <td>0</td>\n",
       "      <td>0</td>\n",
       "    </tr>\n",
       "    <tr>\n",
       "      <th>2</th>\n",
       "      <td>245</td>\n",
       "      <td>1</td>\n",
       "      <td>1.86</td>\n",
       "      <td>2.09</td>\n",
       "      <td>0.17</td>\n",
       "      <td>0.0</td>\n",
       "      <td>0</td>\n",
       "      <td>0</td>\n",
       "      <td>0.68</td>\n",
       "      <td>CH</td>\n",
       "      <td>1</td>\n",
       "      <td>0</td>\n",
       "      <td>0</td>\n",
       "      <td>0</td>\n",
       "      <td>0</td>\n",
       "    </tr>\n",
       "  </tbody>\n",
       "</table>\n",
       "</div>"
      ],
      "text/plain": [
       "   WeekofPurchase  StoreID  PriceCH  ...  Store_3  Store_4  Store_7\n",
       "0             237        1     1.75  ...        0        0        0\n",
       "1             239        1     1.75  ...        0        0        0\n",
       "2             245        1     1.86  ...        0        0        0\n",
       "\n",
       "[3 rows x 15 columns]"
      ]
     },
     "execution_count": 11,
     "metadata": {
      "tags": []
     },
     "output_type": "execute_result"
    }
   ],
   "source": [
    "# Update store with one hot encoding \n",
    "\n",
    "df['Store_1'] = np.where(df['StoreID']== 1, 1, 0)\n",
    "df['Store_2'] = np.where(df['StoreID']== 2, 1, 0)\n",
    "df['Store_3'] = np.where(df['StoreID']== 3, 1, 0)\n",
    "df['Store_4'] = np.where(df['StoreID']== 4, 1, 0)\n",
    "df['Store_7'] = np.where(df['StoreID']== 7, 1, 0)\n",
    "df.head(3)"
   ]
  },
  {
   "cell_type": "markdown",
   "metadata": {
    "id": "q5TGwoxPY9zD"
   },
   "source": [
    "#### Create X and y, and Compare Preprocessing Methods"
   ]
  },
  {
   "cell_type": "code",
   "execution_count": 15,
   "metadata": {
    "id": "eILVgXVGSHR8"
   },
   "outputs": [],
   "source": [
    "# Split X and y \n",
    "\n",
    "X = df.drop(columns=['Purchase','StoreID'])\n",
    "y = df['Purchase']"
   ]
  },
  {
   "cell_type": "code",
   "execution_count": 16,
   "metadata": {
    "colab": {
     "base_uri": "https://localhost:8080/",
     "height": 153
    },
    "id": "praBd2JpSIwp",
    "outputId": "ac30f1d5-e7e2-401d-eba0-fef43944a5ff"
   },
   "outputs": [
    {
     "data": {
      "text/html": [
       "<div>\n",
       "<style scoped>\n",
       "    .dataframe tbody tr th:only-of-type {\n",
       "        vertical-align: middle;\n",
       "    }\n",
       "\n",
       "    .dataframe tbody tr th {\n",
       "        vertical-align: top;\n",
       "    }\n",
       "\n",
       "    .dataframe thead th {\n",
       "        text-align: right;\n",
       "    }\n",
       "</style>\n",
       "<table border=\"1\" class=\"dataframe\">\n",
       "  <thead>\n",
       "    <tr style=\"text-align: right;\">\n",
       "      <th></th>\n",
       "      <th>WeekofPurchase</th>\n",
       "      <th>PriceCH</th>\n",
       "      <th>PriceMM</th>\n",
       "      <th>DiscCH</th>\n",
       "      <th>DiscMM</th>\n",
       "      <th>SpecialCH</th>\n",
       "      <th>SpecialMM</th>\n",
       "      <th>LoyalCH</th>\n",
       "      <th>Store_1</th>\n",
       "      <th>Store_2</th>\n",
       "      <th>Store_3</th>\n",
       "      <th>Store_4</th>\n",
       "      <th>Store_7</th>\n",
       "      <th>WeekofPurchase_John</th>\n",
       "      <th>PriceCH_John</th>\n",
       "      <th>PriceMM_John</th>\n",
       "      <th>DiscCH_John</th>\n",
       "      <th>DiscMM_John</th>\n",
       "      <th>SpecialCH_John</th>\n",
       "      <th>SpecialMM_John</th>\n",
       "      <th>LoyalCH_John</th>\n",
       "      <th>Store_1_John</th>\n",
       "      <th>Store_2_John</th>\n",
       "      <th>Store_3_John</th>\n",
       "      <th>Store_4_John</th>\n",
       "      <th>Store_7_John</th>\n",
       "      <th>WeekofPurchase_Log</th>\n",
       "      <th>PriceCH_Log</th>\n",
       "      <th>PriceMM_Log</th>\n",
       "      <th>DiscCH_Log</th>\n",
       "      <th>DiscMM_Log</th>\n",
       "      <th>SpecialCH_Log</th>\n",
       "      <th>SpecialMM_Log</th>\n",
       "      <th>LoyalCH_Log</th>\n",
       "      <th>Store_1_Log</th>\n",
       "      <th>Store_2_Log</th>\n",
       "      <th>Store_3_Log</th>\n",
       "      <th>Store_4_Log</th>\n",
       "      <th>Store_7_Log</th>\n",
       "      <th>WeekofPurchase_Stnd</th>\n",
       "      <th>PriceCH_Stnd</th>\n",
       "      <th>PriceMM_Stnd</th>\n",
       "      <th>DiscCH_Stnd</th>\n",
       "      <th>DiscMM_Stnd</th>\n",
       "      <th>SpecialCH_Stnd</th>\n",
       "      <th>SpecialMM_Stnd</th>\n",
       "      <th>LoyalCH_Stnd</th>\n",
       "      <th>Store_1_Stnd</th>\n",
       "      <th>Store_2_Stnd</th>\n",
       "      <th>Store_3_Stnd</th>\n",
       "      <th>Store_4_Stnd</th>\n",
       "      <th>Store_7_Stnd</th>\n",
       "    </tr>\n",
       "  </thead>\n",
       "  <tbody>\n",
       "    <tr>\n",
       "      <th>0</th>\n",
       "      <td>237</td>\n",
       "      <td>1.75</td>\n",
       "      <td>1.99</td>\n",
       "      <td>0.00</td>\n",
       "      <td>0.0</td>\n",
       "      <td>0</td>\n",
       "      <td>0</td>\n",
       "      <td>0.50</td>\n",
       "      <td>1</td>\n",
       "      <td>0</td>\n",
       "      <td>0</td>\n",
       "      <td>0</td>\n",
       "      <td>0</td>\n",
       "      <td>-1.114358</td>\n",
       "      <td>-1.158517</td>\n",
       "      <td>-0.953712</td>\n",
       "      <td>-0.524278</td>\n",
       "      <td>-0.646827</td>\n",
       "      <td>-0.416228</td>\n",
       "      <td>-0.439164</td>\n",
       "      <td>-0.272348</td>\n",
       "      <td>2.411491</td>\n",
       "      <td>-0.511657</td>\n",
       "      <td>-0.473557</td>\n",
       "      <td>-0.386396</td>\n",
       "      <td>-0.706116</td>\n",
       "      <td>5.472271</td>\n",
       "      <td>1.011601</td>\n",
       "      <td>1.095273</td>\n",
       "      <td>0.000000</td>\n",
       "      <td>0.000000</td>\n",
       "      <td>0.0</td>\n",
       "      <td>0.000000</td>\n",
       "      <td>0.405465</td>\n",
       "      <td>0.693147</td>\n",
       "      <td>0.0</td>\n",
       "      <td>0.0</td>\n",
       "      <td>0.0</td>\n",
       "      <td>0.0</td>\n",
       "      <td>-1.117696</td>\n",
       "      <td>-1.152062</td>\n",
       "      <td>-0.710313</td>\n",
       "      <td>-0.441664</td>\n",
       "      <td>-0.577188</td>\n",
       "      <td>-0.416228</td>\n",
       "      <td>-0.439164</td>\n",
       "      <td>-0.213788</td>\n",
       "      <td>2.411491</td>\n",
       "      <td>-0.511657</td>\n",
       "      <td>-0.473557</td>\n",
       "      <td>-0.386396</td>\n",
       "      <td>-0.706116</td>\n",
       "    </tr>\n",
       "    <tr>\n",
       "      <th>1</th>\n",
       "      <td>239</td>\n",
       "      <td>1.75</td>\n",
       "      <td>1.99</td>\n",
       "      <td>0.00</td>\n",
       "      <td>0.3</td>\n",
       "      <td>0</td>\n",
       "      <td>1</td>\n",
       "      <td>0.60</td>\n",
       "      <td>1</td>\n",
       "      <td>0</td>\n",
       "      <td>0</td>\n",
       "      <td>0</td>\n",
       "      <td>0</td>\n",
       "      <td>-1.000962</td>\n",
       "      <td>-1.158517</td>\n",
       "      <td>-0.953712</td>\n",
       "      <td>-0.524278</td>\n",
       "      <td>1.481000</td>\n",
       "      <td>-0.416228</td>\n",
       "      <td>2.277053</td>\n",
       "      <td>0.056479</td>\n",
       "      <td>2.411491</td>\n",
       "      <td>-0.511657</td>\n",
       "      <td>-0.473557</td>\n",
       "      <td>-0.386396</td>\n",
       "      <td>-0.706116</td>\n",
       "      <td>5.480639</td>\n",
       "      <td>1.011601</td>\n",
       "      <td>1.095273</td>\n",
       "      <td>0.000000</td>\n",
       "      <td>0.262364</td>\n",
       "      <td>0.0</td>\n",
       "      <td>0.693147</td>\n",
       "      <td>0.470004</td>\n",
       "      <td>0.693147</td>\n",
       "      <td>0.0</td>\n",
       "      <td>0.0</td>\n",
       "      <td>0.0</td>\n",
       "      <td>0.0</td>\n",
       "      <td>-0.989087</td>\n",
       "      <td>-1.152062</td>\n",
       "      <td>-0.710313</td>\n",
       "      <td>-0.441664</td>\n",
       "      <td>0.826428</td>\n",
       "      <td>-0.416228</td>\n",
       "      <td>2.277053</td>\n",
       "      <td>0.111205</td>\n",
       "      <td>2.411491</td>\n",
       "      <td>-0.511657</td>\n",
       "      <td>-0.473557</td>\n",
       "      <td>-0.386396</td>\n",
       "      <td>-0.706116</td>\n",
       "    </tr>\n",
       "    <tr>\n",
       "      <th>2</th>\n",
       "      <td>245</td>\n",
       "      <td>1.86</td>\n",
       "      <td>2.09</td>\n",
       "      <td>0.17</td>\n",
       "      <td>0.0</td>\n",
       "      <td>0</td>\n",
       "      <td>0</td>\n",
       "      <td>0.68</td>\n",
       "      <td>1</td>\n",
       "      <td>0</td>\n",
       "      <td>0</td>\n",
       "      <td>0</td>\n",
       "      <td>0</td>\n",
       "      <td>-0.649022</td>\n",
       "      <td>-0.055270</td>\n",
       "      <td>-0.193713</td>\n",
       "      <td>1.938674</td>\n",
       "      <td>-0.646827</td>\n",
       "      <td>-0.416228</td>\n",
       "      <td>-0.439164</td>\n",
       "      <td>0.328100</td>\n",
       "      <td>2.411491</td>\n",
       "      <td>-0.511657</td>\n",
       "      <td>-0.473557</td>\n",
       "      <td>-0.386396</td>\n",
       "      <td>-0.706116</td>\n",
       "      <td>5.505332</td>\n",
       "      <td>1.050822</td>\n",
       "      <td>1.128171</td>\n",
       "      <td>0.157004</td>\n",
       "      <td>0.000000</td>\n",
       "      <td>0.0</td>\n",
       "      <td>0.000000</td>\n",
       "      <td>0.518794</td>\n",
       "      <td>0.693147</td>\n",
       "      <td>0.0</td>\n",
       "      <td>0.0</td>\n",
       "      <td>0.0</td>\n",
       "      <td>0.0</td>\n",
       "      <td>-0.603260</td>\n",
       "      <td>-0.072806</td>\n",
       "      <td>0.034162</td>\n",
       "      <td>1.006140</td>\n",
       "      <td>-0.577188</td>\n",
       "      <td>-0.416228</td>\n",
       "      <td>-0.439164</td>\n",
       "      <td>0.371200</td>\n",
       "      <td>2.411491</td>\n",
       "      <td>-0.511657</td>\n",
       "      <td>-0.473557</td>\n",
       "      <td>-0.386396</td>\n",
       "      <td>-0.706116</td>\n",
       "    </tr>\n",
       "  </tbody>\n",
       "</table>\n",
       "</div>"
      ],
      "text/plain": [
       "   WeekofPurchase  PriceCH  PriceMM  ...  Store_3_Stnd  Store_4_Stnd  Store_7_Stnd\n",
       "0             237     1.75     1.99  ...     -0.473557     -0.386396     -0.706116\n",
       "1             239     1.75     1.99  ...     -0.473557     -0.386396     -0.706116\n",
       "2             245     1.86     2.09  ...     -0.473557     -0.386396     -0.706116\n",
       "\n",
       "[3 rows x 52 columns]"
      ]
     },
     "execution_count": 16,
     "metadata": {
      "tags": []
     },
     "output_type": "execute_result"
    }
   ],
   "source": [
    "# Understand the impact on distribution with log, yeo-johnson and standard \n",
    "# Will use pipeline to apply chosen on training set\n",
    "# This is more exploratory \n",
    "\n",
    "list_columns = X.columns\n",
    "list_log = []\n",
    "list_john = []\n",
    "list_stnd = []\n",
    "for col in list_columns:\n",
    "  list_log.append(col+'_Log')\n",
    "  list_john.append(col+'_John')\n",
    "  list_stnd.append(col+'_Stnd')\n",
    "\n",
    "df_sel = X.copy()\n",
    "logtransformer = FunctionTransformer(np.log1p)\n",
    "johnpt = PowerTransformer(method='yeo-johnson')\n",
    "stnd_scaler = StandardScaler()\n",
    "df_sel[(list_john)] = johnpt.fit_transform(df_sel[(list_columns)])\n",
    "df_sel[(list_log)] = logtransformer.fit_transform(df_sel[(list_columns)])\n",
    "df_sel[(list_stnd)] = stnd_scaler.fit_transform(df_sel[(list_columns)])\n",
    "\n",
    "df_sel.head(3)"
   ]
  },
  {
   "cell_type": "code",
   "execution_count": 17,
   "metadata": {
    "colab": {
     "base_uri": "https://localhost:8080/",
     "height": 813
    },
    "id": "W8fo0uLgSPNA",
    "outputId": "128bd8e5-a13d-4db3-e46f-aa2a58eafe36"
   },
   "outputs": [
    {
     "data": {
      "text/plain": [
       "Text(0.5, 1.0, 'PriceMM Distribution')"
      ]
     },
     "execution_count": 17,
     "metadata": {
      "tags": []
     },
     "output_type": "execute_result"
    },
    {
     "data": {
      "image/png": "[encoded data removed]",
      "text/plain": [
       "<Figure size 576x180 with 1 Axes>"
      ]
     },
     "metadata": {
      "needs_background": "light",
      "tags": []
     },
     "output_type": "display_data"
    },
    {
     "data": {
      "text/plain": [
       "Text(0.5, 1.0, 'PriceMM_Log Distribution')"
      ]
     },
     "execution_count": 17,
     "metadata": {
      "tags": []
     },
     "output_type": "execute_result"
    },
    {
     "data": {
      "image/png": "[encoded data removed]",
      "text/plain": [
       "<Figure size 576x180 with 1 Axes>"
      ]
     },
     "metadata": {
      "needs_background": "light",
      "tags": []
     },
     "output_type": "display_data"
    },
    {
     "data": {
      "text/plain": [
       "Text(0.5, 1.0, 'PriceMM_John Distribution')"
      ]
     },
     "execution_count": 17,
     "metadata": {
      "tags": []
     },
     "output_type": "execute_result"
    },
    {
     "data": {
      "image/png": "[encoded data removed]",
      "text/plain": [
       "<Figure size 576x180 with 1 Axes>"
      ]
     },
     "metadata": {
      "needs_background": "light",
      "tags": []
     },
     "output_type": "display_data"
    },
    {
     "data": {
      "text/plain": [
       "Text(0.5, 1.0, 'PriceMM_Stnd Distribution')"
      ]
     },
     "execution_count": 17,
     "metadata": {
      "tags": []
     },
     "output_type": "execute_result"
    },
    {
     "data": {
      "image/png": "[encoded data removed]",
      "text/plain": [
       "<Figure size 576x180 with 1 Axes>"
      ]
     },
     "metadata": {
      "needs_background": "light",
      "tags": []
     },
     "output_type": "display_data"
    }
   ],
   "source": [
    "# Look at price now with the various processing methods\n",
    "\n",
    "num_bins = 10\n",
    "for col in ['PriceMM','PriceMM_Log','PriceMM_John','PriceMM_Stnd']:\n",
    "  fig, ax = plt.subplots()\n",
    "  fig.set_size_inches(8, 2.5)\n",
    "  n, bins, patches = ax.hist(df_sel[(col)], num_bins)\n",
    "  ax.set_title(col + ' Distribution')\n",
    "  plt.show()"
   ]
  },
  {
   "cell_type": "markdown",
   "metadata": {
    "id": "1CADzG6RS9Dg"
   },
   "source": [
    "### Create Test and Train Data"
   ]
  },
  {
   "cell_type": "markdown",
   "metadata": {
    "id": "-MmIP3ac-Cdc"
   },
   "source": [
    "The data is split 80% train (856 instances) 20% test (214 instances). The training tables are used to train the model. We do not want to include the testing data in our training (to simulate real life), otherwise the training will be biased."
   ]
  },
  {
   "cell_type": "code",
   "execution_count": 19,
   "metadata": {
    "id": "hiGp83TtZXkc"
   },
   "outputs": [],
   "source": [
    "# Train test split method\n",
    "\n",
    "X_train, X_test, y_train, y_test = train_test_split(X,y,test_size=0.2,\n",
    "                                                    random_state=42)"
   ]
  },
  {
   "cell_type": "code",
   "execution_count": 20,
   "metadata": {
    "colab": {
     "base_uri": "https://localhost:8080/"
    },
    "id": "Nn4ghz1C6nHi",
    "outputId": "a5fceb4e-cb0b-400c-ee18-cca8dea5592d"
   },
   "outputs": [
    {
     "name": "stdout",
     "output_type": "stream",
     "text": [
      "X_train shape: (856, 13)\n",
      "y_train shape: (856,)\n",
      "X_test shape: (214, 13)\n",
      "y_test shape: (214,)\n"
     ]
    }
   ],
   "source": [
    "# Show shape of tables\n",
    "\n",
    "print('X_train shape:', X_train.shape)\n",
    "print('y_train shape:', y_train.shape)\n",
    "print('X_test shape:', X_test.shape)\n",
    "print('y_test shape:', y_test.shape)"
   ]
  },
  {
   "cell_type": "markdown",
   "metadata": {
    "id": "57y3zmXGbvZs"
   },
   "source": [
    "## Models and Output"
   ]
  },
  {
   "cell_type": "markdown",
   "metadata": {
    "id": "By5O17XMhjwq"
   },
   "source": [
    "### SVM - Linear SVC"
   ]
  },
  {
   "cell_type": "code",
   "execution_count": 21,
   "metadata": {
    "colab": {
     "base_uri": "https://localhost:8080/"
    },
    "id": "vx9CPpTSfkpc",
    "outputId": "a62b21a2-6f0e-4796-e9bb-6a04c7303628"
   },
   "outputs": [
    {
     "data": {
      "text/plain": [
       "GridSearchCV(cv=10, error_score=nan,\n",
       "             estimator=Pipeline(memory=None,\n",
       "                                steps=[('PT',\n",
       "                                        PowerTransformer(copy=True,\n",
       "                                                         method='yeo-johnson',\n",
       "                                                         standardize=True)),\n",
       "                                       ('rfe',\n",
       "                                        RFE(estimator=LinearSVC(C=1.0,\n",
       "                                                                class_weight=None,\n",
       "                                                                dual=True,\n",
       "                                                                fit_intercept=True,\n",
       "                                                                intercept_scaling=1,\n",
       "                                                                loss='squared_hinge',\n",
       "                                                                max_iter=1000,\n",
       "                                                                multi_class='ovr',\n",
       "                                                                penalty='l2',\n",
       "                                                                random_state=None,\n",
       "                                                                tol=0.0001,\n",
       "                                                                verbo...\n",
       "                                                  multi_class='ovr',\n",
       "                                                  penalty='l2',\n",
       "                                                  random_state=None, tol=0.0001,\n",
       "                                                  verbose=0))],\n",
       "                                verbose=False),\n",
       "             iid='deprecated', n_jobs=None,\n",
       "             param_grid={'SVC__C': array([1]),\n",
       "                         'SVC__class_weight': ('balanced', None),\n",
       "                         'SVC__loss': ('hinge', 'squared_hinge'),\n",
       "                         'rfe__n_features_to_select': (5, 7, 9, 11, 13)},\n",
       "             pre_dispatch='2*n_jobs', refit=True, return_train_score=False,\n",
       "             scoring='f1_micro', verbose=0)"
      ]
     },
     "execution_count": 21,
     "metadata": {
      "tags": []
     },
     "output_type": "execute_result"
    },
    {
     "name": "stdout",
     "output_type": "stream",
     "text": [
      "\n",
      "\n",
      "Best Score: 0.8341039671682626 \n",
      "\n",
      "Best parameters: {'SVC__C': 1, 'SVC__class_weight': None, 'SVC__loss': 'squared_hinge', 'rfe__n_features_to_select': 7}\n"
     ]
    }
   ],
   "source": [
    "from sklearn.svm import LinearSVC\n",
    "from sklearn.model_selection import GridSearchCV\n",
    "from sklearn.pipeline import Pipeline\n",
    "from sklearn.feature_selection import RFE\n",
    "import warnings\n",
    "from sklearn.exceptions import ConvergenceWarning\n",
    "warnings.filterwarnings(action='ignore', category=ConvergenceWarning)\n",
    "\n",
    "LinearSVC = LinearSVC(penalty='l2')\n",
    "rfe = RFE(estimator=LinearSVC)\n",
    "\n",
    "SVCPipe = Pipeline([('PT', PowerTransformer(method='yeo-johnson')),\n",
    "                    ('rfe',rfe),\n",
    "                    ('SVC',LinearSVC)\n",
    "                   ])\n",
    "param_grid = {'rfe__n_features_to_select':(5,7,9,11,13),\n",
    "              'SVC__C': np.arange(1,2,3),\n",
    "              'SVC__loss': ('hinge','squared_hinge'),\n",
    "              'SVC__class_weight': ('balanced',None)\n",
    "              }\n",
    "SVC = GridSearchCV(SVCPipe,param_grid,cv=10,scoring='f1_micro')\n",
    "SVC.fit(X_train,y_train)\n",
    "print('\\n\\nBest Score:', SVC.best_score_,'\\n')\n",
    "print('Best parameters:', SVC.best_params_)"
   ]
  },
  {
   "cell_type": "code",
   "execution_count": 22,
   "metadata": {
    "colab": {
     "base_uri": "https://localhost:8080/"
    },
    "id": "How3m2hR76hX",
    "outputId": "a81cddfd-620f-4ac3-f697-ded7bdb2841d"
   },
   "outputs": [
    {
     "name": "stdout",
     "output_type": "stream",
     "text": [
      "Confusion matrix:\n",
      " [[115  15]\n",
      " [ 27  57]]\n",
      "\n",
      "Classification report:\n",
      "               precision    recall  f1-score   support\n",
      "\n",
      "          CH       0.81      0.88      0.85       130\n",
      "          MM       0.79      0.68      0.73        84\n",
      "\n",
      "    accuracy                           0.80       214\n",
      "   macro avg       0.80      0.78      0.79       214\n",
      "weighted avg       0.80      0.80      0.80       214\n",
      "\n"
     ]
    }
   ],
   "source": [
    "bestSVC = SVC.best_estimator_\n",
    "pred = bestSVC.predict(X_test)\n",
    "from sklearn.metrics import confusion_matrix, classification_report\n",
    "print('Confusion matrix:\\n',confusion_matrix(y_test, pred))\n",
    "print('\\nClassification report:\\n',classification_report(y_test, pred))"
   ]
  },
  {
   "cell_type": "markdown",
   "metadata": {
    "id": "_ySNUpyM0DPc"
   },
   "source": [
    "### KNN"
   ]
  },
  {
   "cell_type": "code",
   "execution_count": 23,
   "metadata": {
    "colab": {
     "base_uri": "https://localhost:8080/"
    },
    "id": "zAkK4UyXnglE",
    "outputId": "5ae35727-d963-4d96-eda1-58260a1d7ef7"
   },
   "outputs": [
    {
     "data": {
      "text/plain": [
       "GridSearchCV(cv=10, error_score=nan,\n",
       "             estimator=Pipeline(memory=None,\n",
       "                                steps=[('log',\n",
       "                                        FunctionTransformer(accept_sparse=False,\n",
       "                                                            check_inverse=True,\n",
       "                                                            func=<ufunc 'log1p'>,\n",
       "                                                            inv_kw_args=None,\n",
       "                                                            inverse_func=None,\n",
       "                                                            kw_args=None,\n",
       "                                                            validate=False)),\n",
       "                                       ('skb',\n",
       "                                        SelectKBest(k=10,\n",
       "                                                    score_func=<function chi2 at 0x7f5ed7cc0d08>)),\n",
       "                                       ('KNN',\n",
       "                                        KNeighborsClassifier(algorithm='auto',\n",
       "                                                             leaf_size=30,...\n",
       "                                                             n_neighbors=5, p=2,\n",
       "                                                             weights='uniform'))],\n",
       "                                verbose=False),\n",
       "             iid='deprecated', n_jobs=None,\n",
       "             param_grid={'KNN__algorithm': ('auto', 'ball_tree', 'kd_tree',\n",
       "                                            'brute'),\n",
       "                         'KNN__metric': ('euclidean', 'manhattan', 'chebyshev',\n",
       "                                         'minkowski'),\n",
       "                         'KNN__weights': ('uniform', 'distance'),\n",
       "                         'skb__k': (5, 7, 9, 11, 13)},\n",
       "             pre_dispatch='2*n_jobs', refit=True, return_train_score=False,\n",
       "             scoring='f1_micro', verbose=0)"
      ]
     },
     "execution_count": 23,
     "metadata": {
      "tags": []
     },
     "output_type": "execute_result"
    },
    {
     "name": "stdout",
     "output_type": "stream",
     "text": [
      "\n",
      "\n",
      "Best Score: 0.8072777017783856 \n",
      "\n",
      "Best parameters: {'KNN__algorithm': 'brute', 'KNN__metric': 'manhattan', 'KNN__weights': 'uniform', 'skb__k': 11}\n"
     ]
    }
   ],
   "source": [
    "from sklearn.neighbors import KNeighborsClassifier\n",
    "from sklearn.feature_selection import SelectKBest, chi2\n",
    "\n",
    "KNN = KNeighborsClassifier()\n",
    "skb = SelectKBest(chi2)\n",
    "\n",
    "KNNPipe= Pipeline([('log', FunctionTransformer(np.log1p)),\n",
    "                   ('skb',skb),\n",
    "                   ('KNN',KNN)\n",
    "                   ])\n",
    "param_grid = {'skb__k':(5,7,9,11,13),     \n",
    "              'KNN__weights': ('uniform','distance'),\n",
    "              'KNN__algorithm': ('auto', 'ball_tree', 'kd_tree', 'brute'),\n",
    "              'KNN__metric': ('euclidean','manhattan','chebyshev','minkowski')\n",
    "              }\n",
    "KNearest = GridSearchCV(KNNPipe,param_grid,cv=10,scoring='f1_micro')\n",
    "KNearest.fit(X_train,y_train)\n",
    "print('\\n\\nBest Score:', KNearest.best_score_,'\\n')\n",
    "print('Best parameters:', KNearest.best_params_)"
   ]
  },
  {
   "cell_type": "code",
   "execution_count": 24,
   "metadata": {
    "colab": {
     "base_uri": "https://localhost:8080/"
    },
    "id": "-DUymOOBpBGq",
    "outputId": "0bc43fbc-7800-453a-fd57-ecacd904aa36"
   },
   "outputs": [
    {
     "name": "stdout",
     "output_type": "stream",
     "text": [
      "Confusion matrix:\n",
      " [[114  16]\n",
      " [ 27  57]]\n",
      "\n",
      "Classification report:\n",
      "               precision    recall  f1-score   support\n",
      "\n",
      "          CH       0.81      0.88      0.84       130\n",
      "          MM       0.78      0.68      0.73        84\n",
      "\n",
      "    accuracy                           0.80       214\n",
      "   macro avg       0.79      0.78      0.78       214\n",
      "weighted avg       0.80      0.80      0.80       214\n",
      "\n"
     ]
    }
   ],
   "source": [
    "bestKNearest = KNearest.best_estimator_\n",
    "pred = bestKNearest.predict(X_test)\n",
    "from sklearn.metrics import confusion_matrix, classification_report\n",
    "print('Confusion matrix:\\n',confusion_matrix(y_test, pred))\n",
    "print('\\nClassification report:\\n',classification_report(y_test, pred))"
   ]
  },
  {
   "cell_type": "markdown",
   "metadata": {
    "id": "UpCz2asV_62E"
   },
   "source": [
    "### Decision Tree"
   ]
  },
  {
   "cell_type": "code",
   "execution_count": 25,
   "metadata": {
    "colab": {
     "base_uri": "https://localhost:8080/"
    },
    "id": "218s7PtCAcr8",
    "outputId": "7142a8f5-a26e-42d6-b77e-575fe3118945"
   },
   "outputs": [
    {
     "data": {
      "text/plain": [
       "GridSearchCV(cv=10, error_score=nan,\n",
       "             estimator=Pipeline(memory=None,\n",
       "                                steps=[('PT',\n",
       "                                        PowerTransformer(copy=True,\n",
       "                                                         method='yeo-johnson',\n",
       "                                                         standardize=True)),\n",
       "                                       ('rfe',\n",
       "                                        RFE(estimator=DecisionTreeClassifier(ccp_alpha=0.0,\n",
       "                                                                             class_weight=None,\n",
       "                                                                             criterion='gini',\n",
       "                                                                             max_depth=None,\n",
       "                                                                             max_features=None,\n",
       "                                                                             max_leaf_nodes=None,\n",
       "                                                                             min_impurity_decrease=0.0,\n",
       "                                                                             min_impurity_split=None,\n",
       "                                                                             min_samp...\n",
       "                                                               min_weight_fraction_leaf=0.0,\n",
       "                                                               presort='deprecated',\n",
       "                                                               random_state=None,\n",
       "                                                               splitter='best'))],\n",
       "                                verbose=False),\n",
       "             iid='deprecated', n_jobs=None,\n",
       "             param_grid={'DT__criterion': ('gini', 'entropy'),\n",
       "                         'DT__max_depth': (3, 5, 7, 9),\n",
       "                         'DT__min_samples_split': (3, 5, 7, 9),\n",
       "                         'rfe__n_features_to_select': (5, 7, 9, 11, 13)},\n",
       "             pre_dispatch='2*n_jobs', refit=True, return_train_score=False,\n",
       "             scoring='f1_micro', verbose=0)"
      ]
     },
     "execution_count": 25,
     "metadata": {
      "tags": []
     },
     "output_type": "execute_result"
    },
    {
     "name": "stdout",
     "output_type": "stream",
     "text": [
      "\n",
      "\n",
      "Best Score: 0.8107523939808482 \n",
      "\n",
      "Best parameters: {'DT__criterion': 'gini', 'DT__max_depth': 5, 'DT__min_samples_split': 9, 'rfe__n_features_to_select': 7}\n"
     ]
    }
   ],
   "source": [
    "from sklearn.tree import DecisionTreeClassifier\n",
    "\n",
    "DTree = DecisionTreeClassifier()\n",
    "rfe = RFE(estimator=DTree)\n",
    "\n",
    "DTPipe = Pipeline([('PT', PowerTransformer(method='yeo-johnson')),\n",
    "                   ('rfe', rfe),\n",
    "                   ('DT', DTree)\n",
    "                   ])\n",
    "param_grid = {'rfe__n_features_to_select':(5,7,9,11,13), \n",
    "              'DT__max_depth': (3,5,7,9),\n",
    "              'DT__min_samples_split': (3,5,7,9),\n",
    "              'DT__criterion': ('gini','entropy')\n",
    "              }\n",
    "DT = GridSearchCV(DTPipe,param_grid,cv=10,scoring='f1_micro')\n",
    "DT.fit(X_train,y_train)\n",
    "print('\\n\\nBest Score:', DT.best_score_,'\\n')\n",
    "print('Best parameters:', DT.best_params_)"
   ]
  },
  {
   "cell_type": "code",
   "execution_count": 26,
   "metadata": {
    "colab": {
     "base_uri": "https://localhost:8080/"
    },
    "id": "1u2UW9ncL9Y5",
    "outputId": "4993ac8f-d987-482b-f90c-0ce05671976e"
   },
   "outputs": [
    {
     "name": "stdout",
     "output_type": "stream",
     "text": [
      "Confusion matrix:\n",
      " [[113  17]\n",
      " [ 32  52]]\n",
      "\n",
      "Classification report:\n",
      "               precision    recall  f1-score   support\n",
      "\n",
      "          CH       0.78      0.87      0.82       130\n",
      "          MM       0.75      0.62      0.68        84\n",
      "\n",
      "    accuracy                           0.77       214\n",
      "   macro avg       0.77      0.74      0.75       214\n",
      "weighted avg       0.77      0.77      0.77       214\n",
      "\n"
     ]
    }
   ],
   "source": [
    "bestDT = DT.best_estimator_\n",
    "pred = bestDT.predict(X_test)\n",
    "from sklearn.metrics import confusion_matrix, classification_report\n",
    "print('Confusion matrix:\\n',confusion_matrix(y_test, pred))\n",
    "print('\\nClassification report:\\n',classification_report(y_test, pred))"
   ]
  }
 ],
 "metadata": {
  "accelerator": "GPU",
  "colab": {
   "collapsed_sections": [],
   "name": "Assignment1_869_Q7_KelseyPericak.ipynb",
   "provenance": []
  },
  "kernelspec": {
   "display_name": "Python 2",
   "language": "python",
   "name": "python2"
  },
  "language_info": {
   "codemirror_mode": {
    "name": "ipython",
    "version": 2
   },
   "file_extension": ".py",
   "mimetype": "text/x-python",
   "name": "python",
   "nbconvert_exporter": "python",
   "pygments_lexer": "ipython2",
   "version": "2.7.16"
  }
 },
 "nbformat": 4,
 "nbformat_minor": 1
}
